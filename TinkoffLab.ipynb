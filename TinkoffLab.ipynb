{
  "nbformat": 4,
  "nbformat_minor": 0,
  "metadata": {
    "colab": {
      "name": "TinkoffLab.ipynb",
      "provenance": [],
      "collapsed_sections": [],
      "toc_visible": true,
      "mount_file_id": "1JD-IXJ4kboIYDB-YxQa6p_bWHzQdulxw",
      "authorship_tag": "ABX9TyOA4kTKC3h3y1giXi8Y5ACL",
      "include_colab_link": true
    },
    "kernelspec": {
      "display_name": "Python 3",
      "name": "python3"
    },
    "language_info": {
      "name": "python"
    }
  },
  "cells": [
    {
      "cell_type": "markdown",
      "metadata": {
        "id": "view-in-github",
        "colab_type": "text"
      },
      "source": [
        "<a href=\"https://colab.research.google.com/github/HalcyonForest/CreditFraudDetection/blob/main/TinkoffLab.ipynb\" target=\"_parent\"><img src=\"https://colab.research.google.com/assets/colab-badge.svg\" alt=\"Open In Colab\"/></a>"
      ]
    },
    {
      "cell_type": "code",
      "metadata": {
        "id": "Z0J8fNLeJMnW"
      },
      "source": [
        "import tensorflow\n",
        "import xgboost as xgb\n",
        "import pandas as pd\n",
        "import numpy as np\n",
        "import tensorflow as tf\n",
        "import matplotlib.pyplot as plt\n",
        "import sklearn\n",
        "from sklearn.svm import SVC\n",
        "from tensorflow.keras.models import Sequential\n",
        "from tensorflow.keras.layers import Dense,SimpleRNN,LSTM, Dropout\n",
        "from keras.regularizers import l2\n",
        "from tensorflow.keras.callbacks import EarlyStopping\n",
        "from keras.layers import Flatten\n",
        "from keras.layers.convolutional import MaxPooling1D\n",
        "from keras.layers import InputLayer, Conv1D\n",
        "from sklearn.preprocessing import MinMaxScaler\n",
        "from sklearn.metrics import mean_squared_error\n",
        "from sklearn.metrics import mean_absolute_error\n",
        "from sklearn.utils import shuffle\n",
        "from sklearn.model_selection import train_test_split\n",
        "from sklearn.metrics import mean_squared_error as mse\n",
        "from sklearn.linear_model import LogisticRegression\n",
        "from sklearn.ensemble import RandomForestRegressor\n",
        "from sklearn.preprocessing import StandardScaler\n",
        "from sklearn.metrics import accuracy_score, plot_confusion_matrix, confusion_matrix, ConfusionMatrixDisplay"
      ],
      "execution_count": null,
      "outputs": []
    },
    {
      "cell_type": "code",
      "metadata": {
        "id": "z5wrmxeYJui7"
      },
      "source": [
        "df = pd.read_csv('/content/drive/MyDrive/creditcard.csv')\n",
        "scaler = StandardScaler()\n",
        "df['scaled_amount'] = scaler.fit_transform(df['Amount'].values.reshape(-1,1))\n",
        "df['scaled_time'] = scaler.fit_transform(df['Time'].values.reshape(-1,1))\n",
        "\n",
        "df.drop(['Time','Amount'], axis=1, inplace=True)\n",
        "\n",
        "X = df.drop(columns=['Class'])\n",
        "y = df['Class']\n",
        "\n",
        "Frauds = df['Class'].value_counts()[1]\n",
        "NonFrauds = df['Class'].value_counts()[0]\n",
        "\n",
        "X_train, X_test, y_train, y_test = train_test_split(X, y, train_size = 0.8, stratify=y, random_state=42)\n",
        "#X_test = X_test.drop(columns=['Class'])\n",
        "\n",
        "X_val, _1, y_val, _2 = train_test_split(X_train, y_train, train_size = 0.2, stratify=y_train, random_state=42)\n",
        "\n",
        "weight_for_0 = 1 / NonFrauds\n",
        "weight_for_1 = 1 / Frauds\n",
        "class_weight = {0: weight_for_0, 1: weight_for_1} # строчка из документации Keras"
      ],
      "execution_count": null,
      "outputs": []
    },
    {
      "cell_type": "code",
      "metadata": {
        "id": "STS4cogptyt-"
      },
      "source": [
        ""
      ],
      "execution_count": null,
      "outputs": []
    },
    {
      "cell_type": "code",
      "metadata": {
        "colab": {
          "base_uri": "https://localhost:8080/",
          "height": 279
        },
        "id": "9DNApepwMY9m",
        "outputId": "0931e19f-cd56-48f2-838a-b1058d3c5605"
      },
      "source": [
        "y_svm_oc = svm_oc.predict(X_oc_test)\n",
        "y_svm_oc[y_svm_oc == -1] = 0\n",
        "y_svm_oc[y_svm_oc == 1] = 1\n",
        "\n",
        "#svm_oc_accuracy = sklearn.metrics.accuracy_score(y_test,y_svm_oc)\n",
        "#print(svm_oc_accuracy)\n",
        "svm_oc_cm = confusion_matrix(y_oc_test, y_svm_oc)\n",
        "matrix = ConfusionMatrixDisplay(svm_oc_cm, ['Normal', 'Fraud'])\n",
        "matrix.plot(cmap='Purples', values_format='d')\n",
        "plt.show()"
      ],
      "execution_count": null,
      "outputs": [
        {
          "output_type": "display_data",
          "data": {
            "image/png": "[encoded data removed]",
            "text/plain": [
              "<Figure size 432x288 with 2 Axes>"
            ]
          },
          "metadata": {
            "tags": []
          }
        }
      ]
    },
    {
      "cell_type": "markdown",
      "metadata": {
        "id": "mckuz5JYLrRT"
      },
      "source": [
        "Accuracy не является информативной метрикой из-за дизбаланса классов.\n",
        "\n",
        "Цель: похожесть confusion matrix с теми, что в статье.\n",
        "\n",
        "Главная метрика: TrueNegative (кол-во отловленных подозрительных операций). + Низкий FalsePostive "
      ]
    },
    {
      "cell_type": "code",
      "metadata": {
        "colab": {
          "base_uri": "https://localhost:8080/"
        },
        "id": "CPGfl7Z3J0AI",
        "outputId": "ca988589-bd9c-4978-a857-a150af8d4785"
      },
      "source": [
        "df['Class'].value_counts()"
      ],
      "execution_count": null,
      "outputs": [
        {
          "output_type": "execute_result",
          "data": {
            "text/plain": [
              "0    284315\n",
              "1       492\n",
              "Name: Class, dtype: int64"
            ]
          },
          "metadata": {
            "tags": []
          },
          "execution_count": 4
        }
      ]
    },
    {
      "cell_type": "code",
      "metadata": {
        "colab": {
          "base_uri": "https://localhost:8080/"
        },
        "id": "QILvQqhWKRf5",
        "outputId": "9255423b-324b-41fc-eeb6-ab754b460839"
      },
      "source": [
        "#Naive accuracy\n",
        "y_naive = [0] * len(df['Class'])\n",
        "NaiveScore = sklearn.metrics.accuracy_score(df['Class'], y_naive)\n",
        "print(NaiveScore)"
      ],
      "execution_count": null,
      "outputs": [
        {
          "output_type": "stream",
          "text": [
            "0.9982725143693799\n"
          ],
          "name": "stdout"
        }
      ]
    },
    {
      "cell_type": "code",
      "metadata": {
        "colab": {
          "base_uri": "https://localhost:8080/"
        },
        "id": "gpN6iB0XNCSI",
        "outputId": "3f62599c-7526-4fd8-e2fb-8e31d67a4782"
      },
      "source": [
        "sklearn.metrics.confusion_matrix(df['Class'], y_naive)"
      ],
      "execution_count": null,
      "outputs": [
        {
          "output_type": "execute_result",
          "data": {
            "text/plain": [
              "array([[284315,      0],\n",
              "       [   492,      0]])"
            ]
          },
          "metadata": {
            "tags": []
          },
          "execution_count": 6
        }
      ]
    },
    {
      "cell_type": "code",
      "metadata": {
        "id": "gYosK6ZYURXH"
      },
      "source": [
        "# scaler = StandardScaler()\n",
        "# X_train[['scaledAmount']] = scaler.fit_transform(X_train[['Amount']])\n",
        "# X_test[['scaledAmount']] = scaler.transform(X_test[['Amount']])\n"
      ],
      "execution_count": null,
      "outputs": []
    },
    {
      "cell_type": "code",
      "metadata": {
        "id": "FoGf9WKOd0gI"
      },
      "source": [
        ""
      ],
      "execution_count": null,
      "outputs": []
    },
    {
      "cell_type": "code",
      "metadata": {
        "id": "vGGio6yIVIBm"
      },
      "source": [
        ""
      ],
      "execution_count": null,
      "outputs": []
    },
    {
      "cell_type": "code",
      "metadata": {
        "id": "I4IXGUF4CLhI"
      },
      "source": [
        "#X_train = X_train.drop(columns=['Class'])"
      ],
      "execution_count": null,
      "outputs": []
    },
    {
      "cell_type": "code",
      "metadata": {
        "id": "g6-nLa-dabcn"
      },
      "source": [
        "# # Подглядел на kaggle\n",
        "# fraud_df = df.loc[df['Class'] == 1]\n",
        "# nonfraud_df = df.loc[df['Class'] == 0][:492]\n",
        "# normal_dist_df = pd.concat([fraud_df, nonfraud_df])\n",
        "# normal_dist_df = normal_dist_df.drop(columns=['Class'])"
      ],
      "execution_count": null,
      "outputs": []
    },
    {
      "cell_type": "code",
      "metadata": {
        "id": "O3v-d-hkEF24"
      },
      "source": [
        "fraud_train = X_train.loc[X_train['Class'] == 1]\n",
        "nonfraud_train = X_train.loc[X_train['Class'] == 0]\n",
        "y_train_fraud = X_train.loc[X_train['Class'] == 1, 'Class']\n",
        "y_train_nonfraud = X_train.loc[X_train['Class'] == 0, 'Class'][:fraud_train.shape[0] * 4]\n",
        "nonfraud_train = nonfraud_train.drop(columns=['Class'])\n",
        "fraud_train = fraud_train.drop(columns=['Class'])\n",
        "nonfraud_train = nonfraud_train[:fraud_train.shape[0] * 4]\n",
        "y_train = pd.concat([y_train_fraud, y_train_nonfraud])\n",
        "X_train = pd.concat([nonfraud_train, fraud_train])"
      ],
      "execution_count": null,
      "outputs": []
    },
    {
      "cell_type": "code",
      "metadata": {
        "id": "aUF7hr0Za7YY"
      },
      "source": [
        ""
      ],
      "execution_count": null,
      "outputs": []
    },
    {
      "cell_type": "code",
      "metadata": {
        "colab": {
          "base_uri": "https://localhost:8080/",
          "height": 222
        },
        "id": "KbXpexHeUstD",
        "outputId": "49057d30-58cf-4fe7-8b2a-ba8d0ef1f5c9"
      },
      "source": [
        "X_train.head()"
      ],
      "execution_count": null,
      "outputs": [
        {
          "output_type": "execute_result",
          "data": {
            "text/html": [
              "<div>\n",
              "<style scoped>\n",
              "    .dataframe tbody tr th:only-of-type {\n",
              "        vertical-align: middle;\n",
              "    }\n",
              "\n",
              "    .dataframe tbody tr th {\n",
              "        vertical-align: top;\n",
              "    }\n",
              "\n",
              "    .dataframe thead th {\n",
              "        text-align: right;\n",
              "    }\n",
              "</style>\n",
              "<table border=\"1\" class=\"dataframe\">\n",
              "  <thead>\n",
              "    <tr style=\"text-align: right;\">\n",
              "      <th></th>\n",
              "      <th>V1</th>\n",
              "      <th>V2</th>\n",
              "      <th>V3</th>\n",
              "      <th>V4</th>\n",
              "      <th>V5</th>\n",
              "      <th>V6</th>\n",
              "      <th>V7</th>\n",
              "      <th>V8</th>\n",
              "      <th>V9</th>\n",
              "      <th>V10</th>\n",
              "      <th>V11</th>\n",
              "      <th>V12</th>\n",
              "      <th>V13</th>\n",
              "      <th>V14</th>\n",
              "      <th>V15</th>\n",
              "      <th>V16</th>\n",
              "      <th>V17</th>\n",
              "      <th>V18</th>\n",
              "      <th>V19</th>\n",
              "      <th>V20</th>\n",
              "      <th>V21</th>\n",
              "      <th>V22</th>\n",
              "      <th>V23</th>\n",
              "      <th>V24</th>\n",
              "      <th>V25</th>\n",
              "      <th>V26</th>\n",
              "      <th>V27</th>\n",
              "      <th>V28</th>\n",
              "      <th>scaled_amount</th>\n",
              "      <th>scaled_time</th>\n",
              "    </tr>\n",
              "  </thead>\n",
              "  <tbody>\n",
              "    <tr>\n",
              "      <th>265518</th>\n",
              "      <td>1.946747</td>\n",
              "      <td>-0.752526</td>\n",
              "      <td>-1.355130</td>\n",
              "      <td>-0.661630</td>\n",
              "      <td>1.502822</td>\n",
              "      <td>4.024933</td>\n",
              "      <td>-1.479661</td>\n",
              "      <td>1.139880</td>\n",
              "      <td>1.406819</td>\n",
              "      <td>-0.157403</td>\n",
              "      <td>-0.113729</td>\n",
              "      <td>0.510277</td>\n",
              "      <td>0.061258</td>\n",
              "      <td>-0.066555</td>\n",
              "      <td>1.328702</td>\n",
              "      <td>0.352514</td>\n",
              "      <td>-0.765670</td>\n",
              "      <td>0.141938</td>\n",
              "      <td>-0.451365</td>\n",
              "      <td>-0.134435</td>\n",
              "      <td>0.076197</td>\n",
              "      <td>0.297537</td>\n",
              "      <td>0.307915</td>\n",
              "      <td>0.690980</td>\n",
              "      <td>-0.350316</td>\n",
              "      <td>-0.388907</td>\n",
              "      <td>0.077641</td>\n",
              "      <td>-0.032248</td>\n",
              "      <td>-0.323963</td>\n",
              "      <td>1.413095</td>\n",
              "    </tr>\n",
              "    <tr>\n",
              "      <th>180305</th>\n",
              "      <td>2.035149</td>\n",
              "      <td>-0.048880</td>\n",
              "      <td>-3.058693</td>\n",
              "      <td>0.247945</td>\n",
              "      <td>2.943487</td>\n",
              "      <td>3.298697</td>\n",
              "      <td>-0.002192</td>\n",
              "      <td>0.674782</td>\n",
              "      <td>0.045826</td>\n",
              "      <td>0.284864</td>\n",
              "      <td>-0.254903</td>\n",
              "      <td>0.325560</td>\n",
              "      <td>-0.405327</td>\n",
              "      <td>0.721068</td>\n",
              "      <td>-0.148445</td>\n",
              "      <td>-0.754029</td>\n",
              "      <td>-0.270842</td>\n",
              "      <td>-0.695698</td>\n",
              "      <td>-0.274411</td>\n",
              "      <td>-0.227279</td>\n",
              "      <td>0.038628</td>\n",
              "      <td>0.228197</td>\n",
              "      <td>0.035542</td>\n",
              "      <td>0.707090</td>\n",
              "      <td>0.512885</td>\n",
              "      <td>-0.471198</td>\n",
              "      <td>0.002520</td>\n",
              "      <td>-0.069002</td>\n",
              "      <td>-0.341275</td>\n",
              "      <td>0.624644</td>\n",
              "    </tr>\n",
              "    <tr>\n",
              "      <th>42664</th>\n",
              "      <td>-0.991920</td>\n",
              "      <td>0.603193</td>\n",
              "      <td>0.711976</td>\n",
              "      <td>-0.992425</td>\n",
              "      <td>-0.825838</td>\n",
              "      <td>1.956261</td>\n",
              "      <td>-2.212603</td>\n",
              "      <td>-5.037523</td>\n",
              "      <td>0.000772</td>\n",
              "      <td>-2.009561</td>\n",
              "      <td>-0.386845</td>\n",
              "      <td>1.820161</td>\n",
              "      <td>0.747777</td>\n",
              "      <td>0.122746</td>\n",
              "      <td>-1.723285</td>\n",
              "      <td>1.123344</td>\n",
              "      <td>-0.724616</td>\n",
              "      <td>0.147255</td>\n",
              "      <td>0.004631</td>\n",
              "      <td>1.280856</td>\n",
              "      <td>-2.798352</td>\n",
              "      <td>0.109526</td>\n",
              "      <td>-0.436530</td>\n",
              "      <td>-0.932803</td>\n",
              "      <td>0.826684</td>\n",
              "      <td>0.913773</td>\n",
              "      <td>0.038049</td>\n",
              "      <td>0.185340</td>\n",
              "      <td>0.346835</td>\n",
              "      <td>-1.129186</td>\n",
              "    </tr>\n",
              "    <tr>\n",
              "      <th>198723</th>\n",
              "      <td>2.285718</td>\n",
              "      <td>-1.500239</td>\n",
              "      <td>-0.747565</td>\n",
              "      <td>-1.668119</td>\n",
              "      <td>-1.394143</td>\n",
              "      <td>-0.350339</td>\n",
              "      <td>-1.427984</td>\n",
              "      <td>0.010010</td>\n",
              "      <td>-1.118447</td>\n",
              "      <td>1.756121</td>\n",
              "      <td>0.093136</td>\n",
              "      <td>-0.722450</td>\n",
              "      <td>-0.468757</td>\n",
              "      <td>-0.195288</td>\n",
              "      <td>-0.638683</td>\n",
              "      <td>-0.065888</td>\n",
              "      <td>0.072781</td>\n",
              "      <td>0.768237</td>\n",
              "      <td>0.257424</td>\n",
              "      <td>-0.490642</td>\n",
              "      <td>-0.139670</td>\n",
              "      <td>0.077013</td>\n",
              "      <td>0.208310</td>\n",
              "      <td>-0.538236</td>\n",
              "      <td>-0.278032</td>\n",
              "      <td>-0.162068</td>\n",
              "      <td>0.018045</td>\n",
              "      <td>-0.063005</td>\n",
              "      <td>-0.328841</td>\n",
              "      <td>0.796203</td>\n",
              "    </tr>\n",
              "    <tr>\n",
              "      <th>82325</th>\n",
              "      <td>-0.448747</td>\n",
              "      <td>-1.011440</td>\n",
              "      <td>0.115903</td>\n",
              "      <td>-3.454854</td>\n",
              "      <td>0.715771</td>\n",
              "      <td>-0.147490</td>\n",
              "      <td>0.504347</td>\n",
              "      <td>-0.113817</td>\n",
              "      <td>-0.044782</td>\n",
              "      <td>-0.558955</td>\n",
              "      <td>-0.251076</td>\n",
              "      <td>-0.054708</td>\n",
              "      <td>-0.782698</td>\n",
              "      <td>0.134659</td>\n",
              "      <td>-0.483007</td>\n",
              "      <td>-2.096099</td>\n",
              "      <td>-0.399525</td>\n",
              "      <td>1.597589</td>\n",
              "      <td>-0.082746</td>\n",
              "      <td>-0.275297</td>\n",
              "      <td>-0.243245</td>\n",
              "      <td>-0.173298</td>\n",
              "      <td>-0.006692</td>\n",
              "      <td>-1.362383</td>\n",
              "      <td>-0.292234</td>\n",
              "      <td>-0.144622</td>\n",
              "      <td>-0.032580</td>\n",
              "      <td>-0.064194</td>\n",
              "      <td>-0.008994</td>\n",
              "      <td>-0.746606</td>\n",
              "    </tr>\n",
              "  </tbody>\n",
              "</table>\n",
              "</div>"
            ],
            "text/plain": [
              "              V1        V2        V3  ...       V28  scaled_amount  scaled_time\n",
              "265518  1.946747 -0.752526 -1.355130  ... -0.032248      -0.323963     1.413095\n",
              "180305  2.035149 -0.048880 -3.058693  ... -0.069002      -0.341275     0.624644\n",
              "42664  -0.991920  0.603193  0.711976  ...  0.185340       0.346835    -1.129186\n",
              "198723  2.285718 -1.500239 -0.747565  ... -0.063005      -0.328841     0.796203\n",
              "82325  -0.448747 -1.011440  0.115903  ... -0.064194      -0.008994    -0.746606\n",
              "\n",
              "[5 rows x 30 columns]"
            ]
          },
          "metadata": {
            "tags": []
          },
          "execution_count": 96
        }
      ]
    },
    {
      "cell_type": "code",
      "metadata": {
        "id": "rC-h0jTiJP6C"
      },
      "source": [
        ""
      ],
      "execution_count": null,
      "outputs": []
    },
    {
      "cell_type": "markdown",
      "metadata": {
        "id": "G85Ots4ZNpL8"
      },
      "source": [
        "L"
      ]
    },
    {
      "cell_type": "code",
      "metadata": {
        "id": "AtdNFcndQENV"
      },
      "source": [
        "#TO DO разобраться как подавать тензор в нейронку"
      ],
      "execution_count": null,
      "outputs": []
    },
    {
      "cell_type": "code",
      "metadata": {
        "id": "BIxe1vK7p-H8"
      },
      "source": [
        "# Из документации Keras\n",
        "metrics = [\n",
        "    tf.keras.metrics.FalsePositives(name=\"fp\"),\n",
        "    tf.keras.metrics.TrueNegatives(name=\"tn\"),\n",
        "    tf.keras.metrics.Precision(name=\"precision\"),\n",
        "    tf.keras.metrics.Recall(name=\"recall\"),\n",
        "]"
      ],
      "execution_count": null,
      "outputs": []
    },
    {
      "cell_type": "code",
      "metadata": {
        "colab": {
          "base_uri": "https://localhost:8080/"
        },
        "id": "lUZCR1HDlh-R",
        "outputId": "a222e30f-764a-41da-9456-948d28ca26e3"
      },
      "source": [
        "y_train.value_counts()"
      ],
      "execution_count": null,
      "outputs": [
        {
          "output_type": "execute_result",
          "data": {
            "text/plain": [
              "0    1576\n",
              "1     394\n",
              "Name: Class, dtype: int64"
            ]
          },
          "metadata": {
            "tags": []
          },
          "execution_count": 156
        }
      ]
    },
    {
      "cell_type": "code",
      "metadata": {
        "colab": {
          "base_uri": "https://localhost:8080/"
        },
        "id": "ahFdi3ZlyY49",
        "outputId": "3d9a2d97-410a-4efc-8f49-7b2ec1dbb9a7"
      },
      "source": [
        "y_test.value_counts()"
      ],
      "execution_count": null,
      "outputs": [
        {
          "output_type": "execute_result",
          "data": {
            "text/plain": [
              "0    56864\n",
              "1       98\n",
              "Name: Class, dtype: int64"
            ]
          },
          "metadata": {
            "tags": []
          },
          "execution_count": 157
        }
      ]
    },
    {
      "cell_type": "code",
      "metadata": {
        "colab": {
          "base_uri": "https://localhost:8080/"
        },
        "id": "wK96Z-A31jGk",
        "outputId": "5969a760-43f1-416b-d8c8-82bdde4034d0"
      },
      "source": [
        "y_val.value_counts()"
      ],
      "execution_count": null,
      "outputs": [
        {
          "output_type": "execute_result",
          "data": {
            "text/plain": [
              "0    158\n",
              "1     39\n",
              "Name: Class, dtype: int64"
            ]
          },
          "metadata": {
            "tags": []
          },
          "execution_count": 158
        }
      ]
    },
    {
      "cell_type": "markdown",
      "metadata": {
        "id": "rJbdhxKY2tPr"
      },
      "source": [
        "# DEAL framework: (tensor MLP + ExtraTrees)"
      ]
    },
    {
      "cell_type": "code",
      "metadata": {
        "id": "pLiPxd8q2yRh"
      },
      "source": [
        "tsr_train = tf.convert_to_tensor(X_train)\n",
        "tsr_test = tf.convert_to_tensor(X_test)"
      ],
      "execution_count": null,
      "outputs": []
    },
    {
      "cell_type": "code",
      "metadata": {
        "colab": {
          "base_uri": "https://localhost:8080/"
        },
        "id": "MRYE7S5LSS-l",
        "outputId": "4542e003-7dc2-4db0-9eda-3f0fb9d9c167"
      },
      "source": [
        "\n",
        "model_DEAL = Sequential()\n",
        "model_DEAL.add(tf.keras.Input(shape=(tsr_train.shape[1])))\n",
        "model_DEAL.add(Dense(32, activation='relu', kernel_regularizer=l2(0.0001), bias_regularizer=l2(0.0001)))\n",
        "model_DEAL.add(Dropout(0.1))\n",
        "model_DEAL.add(Dense(16, activation='relu', kernel_regularizer=l2(0.0001), bias_regularizer=l2(0.0001)))\n",
        "model_DEAL.add(Dropout(0.1))\n",
        "model_DEAL.add(Dense(1, activation='sigmoid'))\n",
        "model_DEAL.compile(optimizer='adam', loss=tf.keras.losses.binary_crossentropy, metrics='accuracy')\n",
        "model_DEAL.fit(tsr_train, y_train, epochs=10, verbose=1)"
      ],
      "execution_count": null,
      "outputs": [
        {
          "output_type": "stream",
          "text": [
            "Epoch 1/10\n",
            "7121/7121 [==============================] - 12s 2ms/step - loss: 0.0400 - accuracy: 0.9889\n",
            "Epoch 2/10\n",
            "7121/7121 [==============================] - 11s 2ms/step - loss: 0.0057 - accuracy: 0.9993\n",
            "Epoch 3/10\n",
            "7121/7121 [==============================] - 11s 2ms/step - loss: 0.0049 - accuracy: 0.9994\n",
            "Epoch 4/10\n",
            "7121/7121 [==============================] - 11s 2ms/step - loss: 0.0042 - accuracy: 0.9994\n",
            "Epoch 5/10\n",
            "7121/7121 [==============================] - 11s 2ms/step - loss: 0.0041 - accuracy: 0.9994\n",
            "Epoch 6/10\n",
            "7121/7121 [==============================] - 11s 2ms/step - loss: 0.0042 - accuracy: 0.9994\n",
            "Epoch 7/10\n",
            "7121/7121 [==============================] - 11s 2ms/step - loss: 0.0041 - accuracy: 0.9994\n",
            "Epoch 8/10\n",
            "7121/7121 [==============================] - 11s 2ms/step - loss: 0.0044 - accuracy: 0.9993\n",
            "Epoch 9/10\n",
            "7121/7121 [==============================] - 11s 2ms/step - loss: 0.0046 - accuracy: 0.9994\n",
            "Epoch 10/10\n",
            "7121/7121 [==============================] - 11s 2ms/step - loss: 0.0039 - accuracy: 0.9993\n"
          ],
          "name": "stdout"
        },
        {
          "output_type": "execute_result",
          "data": {
            "text/plain": [
              "<tensorflow.python.keras.callbacks.History at 0x7f59abbe40d0>"
            ]
          },
          "metadata": {
            "tags": []
          },
          "execution_count": 5
        }
      ]
    },
    {
      "cell_type": "code",
      "metadata": {
        "colab": {
          "base_uri": "https://localhost:8080/",
          "height": 297
        },
        "id": "HVA4T4UqAzmC",
        "outputId": "b1cac587-332c-4886-9e56-22a8e6acbdcd"
      },
      "source": [
        "y_DEAL = model_DEAL.predict(X_test).round()\n",
        "DEAL_accuracy = sklearn.metrics.accuracy_score(y_test,y_DEAL)\n",
        "print(DEAL_accuracy)\n",
        "DEAL_cm = confusion_matrix(y_test, y_DEAL)\n",
        "matrix = ConfusionMatrixDisplay(DEAL_cm, ['Normal', 'Fraud'])\n",
        "matrix.plot(cmap='Purples', values_format='d')\n",
        "plt.show()"
      ],
      "execution_count": null,
      "outputs": [
        {
          "output_type": "stream",
          "text": [
            "0.999385555282469\n"
          ],
          "name": "stdout"
        },
        {
          "output_type": "display_data",
          "data": {
            "image/png": "[encoded data removed]",
            "text/plain": [
              "<Figure size 432x288 with 2 Axes>"
            ]
          },
          "metadata": {
            "tags": [],
            "needs_background": "light"
          }
        }
      ]
    },
    {
      "cell_type": "code",
      "metadata": {
        "colab": {
          "base_uri": "https://localhost:8080/",
          "height": 297
        },
        "id": "GIVainK7Moef",
        "outputId": "bd943285-54cb-4070-8687-8d82214e5479"
      },
      "source": [
        "from sklearn.ensemble import ExtraTreesClassifier\n",
        "\n",
        "etc = ExtraTreesClassifier(n_estimators=400, max_depth= 25, criterion='gini')\n",
        "etc.fit(X_train, y_train)\n",
        "y_etc = etc.predict(X_test)\n",
        "etc_accuracy = sklearn.metrics.accuracy_score(y_test,y_etc)\n",
        "print(etc_accuracy)\n",
        "etc_cm = confusion_matrix(y_test, y_etc)\n",
        "matrix = ConfusionMatrixDisplay(etc_cm, ['Normal', 'Fraud'])\n",
        "matrix.plot(cmap='Purples', values_format='d')\n",
        "plt.show()"
      ],
      "execution_count": null,
      "outputs": [
        {
          "output_type": "stream",
          "text": [
            "0.9996313331694814\n"
          ],
          "name": "stdout"
        },
        {
          "output_type": "display_data",
          "data": {
            "image/png": "[encoded data removed]",
            "text/plain": [
              "<Figure size 432x288 with 2 Axes>"
            ]
          },
          "metadata": {
            "tags": [],
            "needs_background": "light"
          }
        }
      ]
    },
    {
      "cell_type": "code",
      "metadata": {
        "id": "2Py5JwdOeUT9"
      },
      "source": [
        "# DEAL Framework matrix\n",
        "y_mlp = model_DEAL.predict(X_test)\n",
        "y_ets = etc.predict_proba(X_test)[::,1]\n",
        "y_ets = np.reshape(y_ets, (-1,1))\n",
        "y_mlp = np.reshape(y_mlp, (-1,1))\n",
        "y_ensemble = (y_ets + y_mlp) / 2\n",
        "y_ensemble = np.reshape(y_ensemble,  (-1,))\n",
        "y_ensemble = y_ensemble.round()\n",
        "#print(y_mlp[1], y_ets[1])\n",
        "#y_ensemble = y_mlp / 2 + y_ets / 2\n",
        "#y_ensemble = y_ensemble.round()"
      ],
      "execution_count": null,
      "outputs": []
    },
    {
      "cell_type": "code",
      "metadata": {
        "colab": {
          "base_uri": "https://localhost:8080/",
          "height": 297
        },
        "id": "bDXR0PbFdhC1",
        "outputId": "37fd8c43-8344-4e02-8f2a-8621844a1aff"
      },
      "source": [
        "ensemble_accuracy = sklearn.metrics.accuracy_score(y_test,y_ensemble)\n",
        "print(ensemble_accuracy)\n",
        "ensemble_cm = confusion_matrix(y_test, y_ensemble)\n",
        "matrix = ConfusionMatrixDisplay(ensemble_cm, ['Normal', 'Fraud'])\n",
        "matrix.plot(cmap='Purples', values_format='d')\n",
        "plt.show()"
      ],
      "execution_count": null,
      "outputs": [
        {
          "output_type": "stream",
          "text": [
            "0.9995962220427653\n"
          ],
          "name": "stdout"
        },
        {
          "output_type": "display_data",
          "data": {
            "image/png": "[encoded data removed]",
            "text/plain": [
              "<Figure size 432x288 with 2 Axes>"
            ]
          },
          "metadata": {
            "tags": [],
            "needs_background": "light"
          }
        }
      ]
    },
    {
      "cell_type": "code",
      "metadata": {
        "colab": {
          "base_uri": "https://localhost:8080/"
        },
        "id": "nmBNGb--BRcr",
        "outputId": "a849a8b3-8837-4e26-90a4-bf7c403b33bf"
      },
      "source": [
        "print(X_train.shape, X_test.shape, y_train.shape, y_test.shape, X_val.shape, y_val.shape)"
      ],
      "execution_count": null,
      "outputs": [
        {
          "output_type": "stream",
          "text": [
            "(227845, 30) (56962, 30) (227845,) (56962,) (45569, 30) (45569,)\n"
          ],
          "name": "stdout"
        }
      ]
    },
    {
      "cell_type": "markdown",
      "metadata": {
        "id": "8-3swIrwrkDz"
      },
      "source": [
        "# CNN"
      ]
    },
    {
      "cell_type": "code",
      "metadata": {
        "id": "UjgOmsxWfABC"
      },
      "source": [
        "X_train_cnn = np.array(X_train).reshape(X_train.shape[0], X_train.shape[1], 1)\n",
        "X_test_cnn = np.array(X_test).reshape(X_test.shape[0], X_test.shape[1], 1)\n",
        "y_train_cnn = np.array(y_train).reshape(y_train.shape[0], 1)\n",
        "y_test_cnn = np.array(y_test).reshape(y_test.shape[0], 1)\n",
        "\n",
        "X_val_cnn = np.array(X_val).reshape(X_val.shape[0], X_val.shape[1], 1)\n",
        "y_val_cnn = np.array(y_val).reshape(y_val.shape[0], 1)"
      ],
      "execution_count": null,
      "outputs": []
    },
    {
      "cell_type": "code",
      "metadata": {
        "colab": {
          "base_uri": "https://localhost:8080/"
        },
        "id": "BkGsGAXnTAJ5",
        "outputId": "98f0fd26-316c-49b1-807a-bd82a0b58174"
      },
      "source": [
        "print(X_train_cnn.shape, X_test_cnn.shape, y_train_cnn.shape, y_test_cnn.shape)"
      ],
      "execution_count": null,
      "outputs": [
        {
          "output_type": "stream",
          "text": [
            "(227845, 30, 1) (56962, 30, 1) (227845, 1) (56962, 1)\n"
          ],
          "name": "stdout"
        }
      ]
    },
    {
      "cell_type": "code",
      "metadata": {
        "colab": {
          "base_uri": "https://localhost:8080/"
        },
        "id": "hzkZQuWt8VZs",
        "outputId": "80960d52-681c-4ef6-9e8f-932422d876e2"
      },
      "source": [
        "model_cnn = Sequential()\n",
        "model_cnn.add(Conv1D(16, (2), activation='relu', input_shape=(X_train.shape[1], 1)))\n",
        "model_cnn.add(MaxPooling1D(2))\n",
        "model_cnn.add(Conv1D(8, (2), activation='relu'))\n",
        "model_cnn.add(Flatten())\n",
        "model_cnn.add(Dense(32, activation='relu'))\n",
        "model_cnn.add(Dense(16, activation='relu'))\n",
        "model_cnn.add(Dense(1, activation='softmax'))\n",
        "model_cnn.compile(optimizer='sgd', loss=tf.keras.losses.binary_crossentropy)\n",
        "model_cnn.fit(X_train_cnn, y_train, epochs=10, verbose=1, validation_data = (X_val_cnn, y_val))\n"
      ],
      "execution_count": null,
      "outputs": [
        {
          "output_type": "stream",
          "text": [
            "Epoch 1/10\n",
            "7121/7121 [==============================] - 17s 2ms/step - loss: 0.0543 - val_loss: 0.0044\n",
            "Epoch 2/10\n",
            "7121/7121 [==============================] - 17s 2ms/step - loss: 0.0043 - val_loss: 0.0034\n",
            "Epoch 3/10\n",
            "7121/7121 [==============================] - 17s 2ms/step - loss: 0.0032 - val_loss: 0.0032\n",
            "Epoch 4/10\n",
            "7121/7121 [==============================] - 16s 2ms/step - loss: 0.0038 - val_loss: 0.0030\n",
            "Epoch 5/10\n",
            "7121/7121 [==============================] - 16s 2ms/step - loss: 0.0037 - val_loss: 0.0029\n",
            "Epoch 6/10\n",
            "7121/7121 [==============================] - 17s 2ms/step - loss: 0.0036 - val_loss: 0.0029\n",
            "Epoch 7/10\n",
            "7121/7121 [==============================] - 17s 2ms/step - loss: 0.0035 - val_loss: 0.0028\n",
            "Epoch 8/10\n",
            "7121/7121 [==============================] - 17s 2ms/step - loss: 0.0030 - val_loss: 0.0029\n",
            "Epoch 9/10\n",
            "7121/7121 [==============================] - 17s 2ms/step - loss: 0.0037 - val_loss: 0.0028\n",
            "Epoch 10/10\n",
            "7121/7121 [==============================] - 17s 2ms/step - loss: 0.0032 - val_loss: 0.0027\n"
          ],
          "name": "stdout"
        },
        {
          "output_type": "execute_result",
          "data": {
            "text/plain": [
              "<tensorflow.python.keras.callbacks.History at 0x7f59a8ef21d0>"
            ]
          },
          "metadata": {
            "tags": []
          },
          "execution_count": 24
        }
      ]
    },
    {
      "cell_type": "code",
      "metadata": {
        "colab": {
          "base_uri": "https://localhost:8080/",
          "height": 314
        },
        "id": "h3AKK9L1A1d0",
        "outputId": "2f585366-4ecd-4ede-8829-23c0514d21cb"
      },
      "source": [
        "y_cnn = model_cnn.predict(X_test_cnn)\n",
        "print(y_cnn.shape, y_test_cnn.shape)\n",
        "cnn_accuracy = sklearn.metrics.accuracy_score(y_test_cnn,y_cnn)\n",
        "print(cnn_accuracy)\n",
        "cnn_cm = confusion_matrix(y_test, y_cnn)\n",
        "matrix = ConfusionMatrixDisplay(cnn_cm, ['Normal', 'Fraud'])\n",
        "matrix.plot(cmap='Purples', values_format='d')\n",
        "plt.show()"
      ],
      "execution_count": null,
      "outputs": [
        {
          "output_type": "stream",
          "text": [
            "(56962, 1) (56962, 1)\n",
            "0.0017204452090867595\n"
          ],
          "name": "stdout"
        },
        {
          "output_type": "display_data",
          "data": {
            "image/png": "[encoded data removed]",
            "text/plain": [
              "<Figure size 432x288 with 2 Axes>"
            ]
          },
          "metadata": {
            "tags": [],
            "needs_background": "light"
          }
        }
      ]
    },
    {
      "cell_type": "code",
      "metadata": {
        "colab": {
          "base_uri": "https://localhost:8080/",
          "height": 297
        },
        "id": "KhLOJHOwHouR",
        "outputId": "8e8fd945-dab3-44ad-958a-ccd7451bb6ea"
      },
      "source": [
        "from sklearn.linear_model import LogisticRegression\n",
        "lr = LogisticRegression(C=0.05, random_state=1, class_weight=class_weight)\n",
        "lr.fit(X_train, y_train)\n",
        "y_lr = lr.predict(X_test)\n",
        "lr_accuracy = sklearn.metrics.accuracy_score(y_test,y_lr)\n",
        "print(lr_accuracy)\n",
        "lr_cm = confusion_matrix(y_test, y_lr)\n",
        "matrix = ConfusionMatrixDisplay(lr_cm, ['Normal', 'Fraud'])\n",
        "matrix.plot(cmap='Purples', values_format='d')\n",
        "plt.show()"
      ],
      "execution_count": null,
      "outputs": [
        {
          "output_type": "stream",
          "text": [
            "0.9993679997191109\n"
          ],
          "name": "stdout"
        },
        {
          "output_type": "display_data",
          "data": {
            "image/png": "[encoded data removed]",
            "text/plain": [
              "<Figure size 432x288 with 2 Axes>"
            ]
          },
          "metadata": {
            "tags": [],
            "needs_background": "light"
          }
        }
      ]
    },
    {
      "cell_type": "markdown",
      "metadata": {
        "id": "fZxiOP6qsSed"
      },
      "source": [
        "# SVC"
      ]
    },
    {
      "cell_type": "code",
      "metadata": {
        "colab": {
          "base_uri": "https://localhost:8080/",
          "height": 331
        },
        "id": "TtaWQIdDSmNP",
        "outputId": "a8dac75b-bbe7-4938-9fa0-96ef1fff9fc3"
      },
      "source": [
        "%%time\n",
        "from sklearn.svm import LinearSVC\n",
        "from sklearn.svm import SVC\n",
        "#sv = LinearSVC(tol=0.001)\n",
        "sv = SVC(kernel='linear', gamma='auto', tol=0.0001, verbose = 1)\n",
        "sv.fit(X_train, y_train)\n",
        "y_svc = sv.predict(X_test)\n",
        "svc_accuracy = sklearn.metrics.accuracy_score(y_test,y_svc)\n",
        "print(svc_accuracy)\n",
        "svc_cm = confusion_matrix(y_test, y_svc)\n",
        "matrix = ConfusionMatrixDisplay(svc_cm, ['Normal', 'Fraud'])\n",
        "matrix.plot(cmap='Purples', values_format='d')\n",
        "plt.show()\n"
      ],
      "execution_count": null,
      "outputs": [
        {
          "output_type": "stream",
          "text": [
            "0.9992977774656788\n"
          ],
          "name": "stdout"
        },
        {
          "output_type": "display_data",
          "data": {
            "image/png": "[encoded data removed]",
            "text/plain": [
              "<Figure size 432x288 with 2 Axes>"
            ]
          },
          "metadata": {
            "tags": [],
            "needs_background": "light"
          }
        },
        {
          "output_type": "stream",
          "text": [
            "CPU times: user 8min 20s, sys: 1.02 s, total: 8min 21s\n",
            "Wall time: 8min 20s\n"
          ],
          "name": "stdout"
        }
      ]
    },
    {
      "cell_type": "code",
      "metadata": {
        "colab": {
          "base_uri": "https://localhost:8080/",
          "height": 314
        },
        "id": "ewBeLPVL7jlI",
        "outputId": "b27b397d-f9b7-4cdc-8be6-0d256483bda2"
      },
      "source": [
        "%%time\n",
        "from sklearn.ensemble import RandomForestClassifier\n",
        "rfc = RandomForestClassifier(n_estimators=50, max_depth=15, random_state=12, max_features=18, n_jobs=-1)\n",
        "rfc.fit(X_train, y_train)\n",
        "y_rfc = rfc.predict(X_test)\n",
        "\n",
        "rfc_cm = confusion_matrix(y_test, y_rfc)\n",
        "matrix = ConfusionMatrixDisplay(rfc_cm, ['Normal', 'Fraud'])\n",
        "matrix.plot(cmap='Purples', values_format='d')\n",
        "plt.show()"
      ],
      "execution_count": null,
      "outputs": [
        {
          "output_type": "display_data",
          "data": {
            "image/png": "[encoded data removed]",
            "text/plain": [
              "<Figure size 432x288 with 2 Axes>"
            ]
          },
          "metadata": {
            "tags": [],
            "needs_background": "light"
          }
        },
        {
          "output_type": "stream",
          "text": [
            "CPU times: user 8min 16s, sys: 533 ms, total: 8min 17s\n",
            "Wall time: 4min 13s\n"
          ],
          "name": "stdout"
        }
      ]
    },
    {
      "cell_type": "markdown",
      "metadata": {
        "id": "IUCMAkA2fJ2q"
      },
      "source": [
        "# Пробую решения из других статей"
      ]
    },
    {
      "cell_type": "markdown",
      "metadata": {
        "id": "Cd8KCcPxfNcA"
      },
      "source": [
        "https://arxiv.org/ftp/arxiv/papers/2012/2012.03754.pdf"
      ]
    },
    {
      "cell_type": "markdown",
      "metadata": {
        "id": "lrcwNvQLhi_m"
      },
      "source": [
        "![image.png](data:image/png;base64,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)"
      ]
    },
    {
      "cell_type": "code",
      "metadata": {
        "colab": {
          "base_uri": "https://localhost:8080/"
        },
        "id": "N3bvNE6ThD5J",
        "outputId": "90c6115d-1bc4-4489-de35-ce47c9238e9e"
      },
      "source": [
        "model_cnn2 = Sequential()\n",
        "model_cnn2.add(Conv1D(64, (1), activation='relu', input_shape=(X_train.shape[1], 1)))\n",
        "model_cnn2.add(Conv1D(64, (1), activation='relu'))\n",
        "model_cnn2.add(Dropout(0.5))\n",
        "model_cnn2.add(MaxPooling1D(1))\n",
        "model_cnn2.add(Flatten())\n",
        "model_cnn2.add(Dense(100, activation='relu'))\n",
        "model_cnn2.add(Dense(1, activation='sigmoid'))\n",
        "model_cnn2.compile(optimizer='sgd', loss=tf.keras.losses.binary_crossentropy)\n",
        "model_cnn2.fit(X_train_cnn, y_train, epochs=20, verbose=1, validation_data = (X_val_cnn, y_val))"
      ],
      "execution_count": null,
      "outputs": [
        {
          "output_type": "stream",
          "text": [
            "Epoch 1/20\n",
            "7121/7121 [==============================] - 56s 8ms/step - loss: 0.0399 - val_loss: 0.0036\n",
            "Epoch 2/20\n",
            "7121/7121 [==============================] - 53s 8ms/step - loss: 0.0040 - val_loss: 0.0028\n",
            "Epoch 3/20\n",
            "7121/7121 [==============================] - 53s 7ms/step - loss: 0.0034 - val_loss: 0.0025\n",
            "Epoch 4/20\n",
            "7121/7121 [==============================] - 54s 8ms/step - loss: 0.0035 - val_loss: 0.0025\n",
            "Epoch 5/20\n",
            "7121/7121 [==============================] - 54s 8ms/step - loss: 0.0032 - val_loss: 0.0024\n",
            "Epoch 6/20\n",
            "7121/7121 [==============================] - 55s 8ms/step - loss: 0.0038 - val_loss: 0.0024\n",
            "Epoch 7/20\n",
            "7121/7121 [==============================] - 54s 8ms/step - loss: 0.0034 - val_loss: 0.0023\n",
            "Epoch 8/20\n",
            "7121/7121 [==============================] - 53s 7ms/step - loss: 0.0034 - val_loss: 0.0023\n",
            "Epoch 9/20\n",
            "7121/7121 [==============================] - 53s 7ms/step - loss: 0.0031 - val_loss: 0.0023\n",
            "Epoch 10/20\n",
            "7121/7121 [==============================] - 53s 7ms/step - loss: 0.0028 - val_loss: 0.0023\n",
            "Epoch 11/20\n",
            "7121/7121 [==============================] - 54s 8ms/step - loss: 0.0035 - val_loss: 0.0023\n",
            "Epoch 12/20\n",
            "7121/7121 [==============================] - 53s 7ms/step - loss: 0.0025 - val_loss: 0.0022\n",
            "Epoch 13/20\n",
            "7121/7121 [==============================] - 52s 7ms/step - loss: 0.0029 - val_loss: 0.0022\n",
            "Epoch 14/20\n",
            "7121/7121 [==============================] - 53s 7ms/step - loss: 0.0029 - val_loss: 0.0022\n",
            "Epoch 15/20\n",
            "7121/7121 [==============================] - 53s 7ms/step - loss: 0.0031 - val_loss: 0.0022\n",
            "Epoch 16/20\n",
            "7121/7121 [==============================] - 54s 8ms/step - loss: 0.0036 - val_loss: 0.0022\n",
            "Epoch 17/20\n",
            "7121/7121 [==============================] - 53s 7ms/step - loss: 0.0027 - val_loss: 0.0022\n",
            "Epoch 18/20\n",
            "7121/7121 [==============================] - 53s 7ms/step - loss: 0.0031 - val_loss: 0.0022\n",
            "Epoch 19/20\n",
            "7121/7121 [==============================] - 52s 7ms/step - loss: 0.0034 - val_loss: 0.0022\n",
            "Epoch 20/20\n",
            "7121/7121 [==============================] - 53s 7ms/step - loss: 0.0033 - val_loss: 0.0022\n"
          ],
          "name": "stdout"
        },
        {
          "output_type": "execute_result",
          "data": {
            "text/plain": [
              "<tensorflow.python.keras.callbacks.History at 0x7f4e78e33ed0>"
            ]
          },
          "metadata": {
            "tags": []
          },
          "execution_count": 10
        }
      ]
    },
    {
      "cell_type": "code",
      "metadata": {
        "colab": {
          "base_uri": "https://localhost:8080/",
          "height": 297
        },
        "id": "hBYKCH1jhG9c",
        "outputId": "40090e11-a255-44c1-f13b-6d92de59b109"
      },
      "source": [
        "y_cnn2 = model_cnn2.predict(X_test_cnn).round()\n",
        "y_cnn2 = np.reshape(y_cnn2, (-1,))\n",
        "#print(y_cnn2.shape, y_test_cnn.shape)\n",
        "cnn_accuracy2 = sklearn.metrics.accuracy_score(y_test_cnn,y_cnn2)\n",
        "print(cnn_accuracy2)\n",
        "cnn_cm2 = confusion_matrix(y_test, y_cnn2)\n",
        "matrix = ConfusionMatrixDisplay(cnn_cm2, ['Normal', 'Fraud'])\n",
        "matrix.plot(cmap='Purples', values_format='d')\n",
        "plt.show()"
      ],
      "execution_count": null,
      "outputs": [
        {
          "output_type": "stream",
          "text": [
            "0.9993504441557529\n"
          ],
          "name": "stdout"
        },
        {
          "output_type": "display_data",
          "data": {
            "image/png": "[encoded data removed]",
            "text/plain": [
              "<Figure size 432x288 with 2 Axes>"
            ]
          },
          "metadata": {
            "tags": [],
            "needs_background": "light"
          }
        }
      ]
    },
    {
      "cell_type": "markdown",
      "metadata": {
        "id": "7VXkMjtxzS3b"
      },
      "source": [
        "# OneClassSVM"
      ]
    },
    {
      "cell_type": "code",
      "metadata": {
        "colab": {
          "base_uri": "https://localhost:8080/"
        },
        "id": "8k0E_NxIzVMj",
        "outputId": "501e3c95-3c1b-4a1d-d926-81aaac2969e8"
      },
      "source": [
        "# Пробую сделать SVM oneClassClassifier, которая учится лишь на одном классе \n",
        "# Оочень долго обучается, даже при gamma='auto', kernel='linear'. Так и не дождался)\n",
        "from sklearn.svm import OneClassSVM\n",
        "X_oc = df.loc[df['Class'] == 0]\n",
        "y_oc = df.loc[df['Class'] == 0, ['Class']] \n",
        "#y_oc['Class'] = 1\n",
        "X_oc = X_oc.drop(['Class'], axis=1)\n",
        "\n",
        "X_oc_train, X_oc_test, y_oc_train, y_oc_test = train_test_split(X_oc, y_oc, train_size = 0.8) \n",
        "svm_oc = OneClassSVM(gamma='auto', nu=0.001, verbose=1, kernel='linear', tol=0.0001)\n",
        "svm_oc.fit(X_oc)\n",
        "\n",
        "y_svm_oc = svm_oc.predict(X_oc_test)\n",
        "y_svm_oc[y_svm_oc == 1] = 0\n",
        "y_svm_oc[y_svm_oc == -1] = 1\n",
        "\n",
        "svm_oc_accuracy = sklearn.metrics.accuracy_score(y_test,y_svm_oc)\n",
        "print(svm_oc_accuracy)\n",
        "svm_oc_cm = confusion_matrix(y_oc_test, y_svm_oc)\n",
        "matrix = ConfusionMatrixDisplay(svm_oc, ['Normal', 'Fraud'])\n",
        "matrix.plot(cmap='Purples', values_format='d')\n",
        "plt.show()"
      ],
      "execution_count": null,
      "outputs": [
        {
          "output_type": "stream",
          "text": [
            "[LibSVM]"
          ],
          "name": "stdout"
        }
      ]
    },
    {
      "cell_type": "markdown",
      "metadata": {
        "id": "o1hNMabZtIO3"
      },
      "source": [
        "# Пробую метод upsamling'a SMOTE"
      ]
    },
    {
      "cell_type": "code",
      "metadata": {
        "colab": {
          "base_uri": "https://localhost:8080/"
        },
        "id": "FDVJvOEnpcyY",
        "outputId": "38f9dc1b-7b8f-40bb-8465-c40e0e62d710"
      },
      "source": [
        "import imblearn\n",
        "from imblearn.over_sampling import  SMOTE\n",
        "smote = SMOTE(random_state=42)\n",
        "X_train_sm, y_train_sm = smote.fit_sample(X_train, y_train)"
      ],
      "execution_count": null,
      "outputs": [
        {
          "output_type": "stream",
          "text": [
            "/usr/local/lib/python3.7/dist-packages/sklearn/externals/six.py:31: FutureWarning: The module is deprecated in version 0.21 and will be removed in version 0.23 since we've dropped support for Python 2.7. Please rely on the official version of six (https://pypi.org/project/six/).\n",
            "  \"(https://pypi.org/project/six/).\", FutureWarning)\n",
            "/usr/local/lib/python3.7/dist-packages/sklearn/utils/deprecation.py:144: FutureWarning: The sklearn.neighbors.base module is  deprecated in version 0.22 and will be removed in version 0.24. The corresponding classes / functions should instead be imported from sklearn.neighbors. Anything that cannot be imported from sklearn.neighbors is now part of the private API.\n",
            "  warnings.warn(message, FutureWarning)\n",
            "/usr/local/lib/python3.7/dist-packages/sklearn/utils/deprecation.py:87: FutureWarning: Function safe_indexing is deprecated; safe_indexing is deprecated in version 0.22 and will be removed in version 0.24.\n",
            "  warnings.warn(msg, category=FutureWarning)\n"
          ],
          "name": "stderr"
        }
      ]
    },
    {
      "cell_type": "markdown",
      "metadata": {
        "id": "FcmnI3DAxLdl"
      },
      "source": [
        "# Logreg"
      ]
    },
    {
      "cell_type": "code",
      "metadata": {
        "colab": {
          "base_uri": "https://localhost:8080/",
          "height": 297
        },
        "id": "x2BKwDWExWMN",
        "outputId": "774e468e-4061-4dc6-dd9f-a51d77da9a11"
      },
      "source": [
        "from sklearn.linear_model import LogisticRegression\n",
        "lr_smote = LogisticRegression(C=10, random_state=1)\n",
        "lr_smote.fit(X_train_sm, y_train_sm)\n",
        "y_lr_smote  = lr_smote.predict(X_test)\n",
        "lr_accuracy_smote  = sklearn.metrics.accuracy_score(y_test,y_lr_smote )\n",
        "print(lr_accuracy_smote )\n",
        "lr_cm_smote  = confusion_matrix(y_test, y_lr_smote)\n",
        "matrix = ConfusionMatrixDisplay(lr_cm_smote , ['Normal', 'Fraud'])\n",
        "matrix.plot(cmap='Purples', values_format='d')\n",
        "plt.show()"
      ],
      "execution_count": null,
      "outputs": [
        {
          "output_type": "stream",
          "text": [
            "0.9741582107369825\n"
          ],
          "name": "stdout"
        },
        {
          "output_type": "display_data",
          "data": {
            "image/png": "[encoded data removed]",
            "text/plain": [
              "<Figure size 432x288 with 2 Axes>"
            ]
          },
          "metadata": {
            "tags": [],
            "needs_background": "light"
          }
        }
      ]
    },
    {
      "cell_type": "markdown",
      "metadata": {
        "id": "_krDN4zaxOJ4"
      },
      "source": [
        "# Random Forest"
      ]
    },
    {
      "cell_type": "code",
      "metadata": {
        "colab": {
          "base_uri": "https://localhost:8080/",
          "height": 279
        },
        "id": "DTk8TOskzAjT",
        "outputId": "a7673ca3-c672-4d3e-9812-5bce6c62947b"
      },
      "source": [
        "from sklearn.ensemble import RandomForestClassifier\n",
        "rfc = RandomForestClassifier(n_estimators=100, max_depth=12, random_state=12, max_features=10)\n",
        "rfc.fit(X_train_sm, y_train_sm)\n",
        "y_rfc_smote = rfc.predict(X_test)\n",
        "\n",
        "rfc_cm_smote = confusion_matrix(y_test, y_rfc_smote)\n",
        "matrix = ConfusionMatrixDisplay(rfc_cm_smote, ['Normal', 'Fraud'])\n",
        "matrix.plot(cmap='Purples', values_format='d')\n",
        "plt.show()"
      ],
      "execution_count": null,
      "outputs": [
        {
          "output_type": "display_data",
          "data": {
            "image/png": "[encoded data removed]",
            "text/plain": [
              "<Figure size 432x288 with 2 Axes>"
            ]
          },
          "metadata": {
            "tags": [],
            "needs_background": "light"
          }
        }
      ]
    },
    {
      "cell_type": "markdown",
      "metadata": {
        "id": "K0RseNGS0VGs"
      },
      "source": [
        "# XGBoost"
      ]
    },
    {
      "cell_type": "code",
      "metadata": {
        "colab": {
          "base_uri": "https://localhost:8080/",
          "height": 279
        },
        "id": "fmC_47Ja0W6Y",
        "outputId": "6fcdb1fa-3f83-4b68-8591-142486d0ab8e"
      },
      "source": [
        "import xgboost as xgb\n",
        "xgbc = xgb.XGBClassifier(n_estimators = 100, max_depth = 14, learning_rate = 0.3)\n",
        "xgbc.fit(np.array(X_train_sm), np.array(y_train_sm))\n",
        "y_xgb = xgbc.predict(np.array(X_test))\n",
        "\n",
        "xgb_cm = confusion_matrix(y_test, y_xgb)\n",
        "matrix = ConfusionMatrixDisplay(xgb_cm, ['Normal', 'Fraud'])\n",
        "matrix.plot(cmap='Purples', values_format='d')\n",
        "plt.show()"
      ],
      "execution_count": null,
      "outputs": [
        {
          "output_type": "display_data",
          "data": {
            "image/png": "[encoded data removed]",
            "text/plain": [
              "<Figure size 432x288 with 2 Axes>"
            ]
          },
          "metadata": {
            "tags": [],
            "needs_background": "light"
          }
        }
      ]
    },
    {
      "cell_type": "markdown",
      "metadata": {
        "id": "19InVJ5gPJyi"
      },
      "source": [
        "# LightGBM"
      ]
    },
    {
      "cell_type": "code",
      "metadata": {
        "colab": {
          "base_uri": "https://localhost:8080/",
          "height": 279
        },
        "id": "rIcJJaQBPMyl",
        "outputId": "f83c46a8-5636-4c52-bc06-fcbc769b6abc"
      },
      "source": [
        "from lightgbm import LGBMClassifier\n",
        "lgbc = LGBMClassifier(learning_rate=0.3, max_depth=11, random_state=21, num_leaves=50)\n",
        "\n",
        "lgbc.fit(np.array(X_train_sm), np.array(y_train_sm))\n",
        "y_lgb = lgbc.predict(np.array(X_test))\n",
        "\n",
        "lgb_cm = confusion_matrix(y_test, y_lgb)\n",
        "matrix = ConfusionMatrixDisplay(lgb_cm, ['Normal', 'Fraud'])\n",
        "matrix.plot(cmap='Purples', values_format='d')\n",
        "plt.show()"
      ],
      "execution_count": null,
      "outputs": [
        {
          "output_type": "display_data",
          "data": {
            "image/png": "[encoded data removed]",
            "text/plain": [
              "<Figure size 432x288 with 2 Axes>"
            ]
          },
          "metadata": {
            "tags": [],
            "needs_background": "light"
          }
        }
      ]
    },
    {
      "cell_type": "markdown",
      "metadata": {
        "id": "NVQydvyePk-M"
      },
      "source": [
        "# CatBoost"
      ]
    },
    {
      "cell_type": "code",
      "metadata": {
        "id": "4Q3SwmebVLsG"
      },
      "source": [
        "pip install catboost"
      ],
      "execution_count": null,
      "outputs": []
    },
    {
      "cell_type": "code",
      "metadata": {
        "id": "LjjhpGr_uFZd"
      },
      "source": [
        "import catboost\n",
        "from catboost import CatBoostClassifier"
      ],
      "execution_count": null,
      "outputs": []
    },
    {
      "cell_type": "code",
      "metadata": {
        "colab": {
          "base_uri": "https://localhost:8080/",
          "height": 279
        },
        "id": "NH2ZgBTPPnGC",
        "outputId": "c525221f-82ed-43e3-f296-7b32436385c1"
      },
      "source": [
        "cbc = CatBoostClassifier(learning_rate=0.3, depth=15, l2_leaf_reg=0.02, iterations=200, verbose=0)\n",
        "cbc.fit(X_train_sm, y_train_sm)\n",
        "y_cbc = cbc.predict(X_test)\n",
        "\n",
        "cbc_cm = confusion_matrix(y_test, y_cbc)\n",
        "matrix = ConfusionMatrixDisplay(cbc_cm, ['Normal', 'Fraud'])\n",
        "matrix.plot(cmap='Purples', values_format='d')\n",
        "plt.show()"
      ],
      "execution_count": null,
      "outputs": [
        {
          "output_type": "display_data",
          "data": {
            "image/png": "[encoded data removed]",
            "text/plain": [
              "<Figure size 432x288 with 2 Axes>"
            ]
          },
          "metadata": {
            "tags": [],
            "needs_background": "light"
          }
        }
      ]
    },
    {
      "cell_type": "markdown",
      "metadata": {
        "id": "hi24yQXR01mI"
      },
      "source": [
        "# MLP"
      ]
    },
    {
      "cell_type": "code",
      "metadata": {
        "colab": {
          "base_uri": "https://localhost:8080/"
        },
        "id": "kPyc5Bt703e4",
        "outputId": "b316d33b-df81-4cda-dc05-96083b123f05"
      },
      "source": [
        "tsr_train_sm = tf.convert_to_tensor(X_train_sm)\n",
        "#tsr_test = tf.convert_to_tensor(X_test)\n",
        "\n",
        "mlp = Sequential()\n",
        "mlp.add(tf.keras.Input(shape=(tsr_train_sm.shape[1])))\n",
        "mlp.add(Dense(56, activation='relu', kernel_regularizer=l2(0.0001), bias_regularizer=l2(0.0001)))\n",
        "mlp.add(Dropout(0.45))\n",
        "mlp.add(Dense(20, activation='relu', kernel_regularizer=l2(0.0001), bias_regularizer=l2(0.0001)))\n",
        "mlp.add(Dense(24, activation='relu', kernel_regularizer=l2(0.0001), bias_regularizer=l2(0.0001)))\n",
        "mlp.add(Dense(1, activation='sigmoid'))\n",
        "mlp.compile(optimizer='adam', loss=tf.keras.losses.binary_crossentropy, metrics='accuracy')\n",
        "mlp.fit(tsr_train_sm, y_train_sm, epochs=10, verbose=1, batch_size=32)"
      ],
      "execution_count": null,
      "outputs": [
        {
          "output_type": "stream",
          "text": [
            "Epoch 1/10\n",
            "14216/14216 [==============================] - 27s 2ms/step - loss: 0.0817 - accuracy: 0.9721\n",
            "Epoch 2/10\n",
            "14216/14216 [==============================] - 26s 2ms/step - loss: 0.0248 - accuracy: 0.9953\n",
            "Epoch 3/10\n",
            "14216/14216 [==============================] - 27s 2ms/step - loss: 0.0222 - accuracy: 0.9961\n",
            "Epoch 4/10\n",
            "14216/14216 [==============================] - 27s 2ms/step - loss: 0.0207 - accuracy: 0.9964\n",
            "Epoch 5/10\n",
            "14216/14216 [==============================] - 27s 2ms/step - loss: 0.0202 - accuracy: 0.9967\n",
            "Epoch 6/10\n",
            "14216/14216 [==============================] - 26s 2ms/step - loss: 0.0199 - accuracy: 0.9967\n",
            "Epoch 7/10\n",
            "14216/14216 [==============================] - 26s 2ms/step - loss: 0.0190 - accuracy: 0.9969\n",
            "Epoch 8/10\n",
            "14216/14216 [==============================] - 26s 2ms/step - loss: 0.0191 - accuracy: 0.9968\n",
            "Epoch 9/10\n",
            "14216/14216 [==============================] - 26s 2ms/step - loss: 0.0189 - accuracy: 0.9969\n",
            "Epoch 10/10\n",
            "14216/14216 [==============================] - 26s 2ms/step - loss: 0.0186 - accuracy: 0.9970\n"
          ],
          "name": "stdout"
        },
        {
          "output_type": "execute_result",
          "data": {
            "text/plain": [
              "<tensorflow.python.keras.callbacks.History at 0x7f4e60567990>"
            ]
          },
          "metadata": {
            "tags": []
          },
          "execution_count": 32
        }
      ]
    },
    {
      "cell_type": "code",
      "metadata": {
        "colab": {
          "base_uri": "https://localhost:8080/",
          "height": 297
        },
        "id": "EWAAFwi_2XMw",
        "outputId": "048c6418-f884-4e44-8a87-80cfd633dbf5"
      },
      "source": [
        "y_mlp = mlp.predict(X_test).round()\n",
        "mlp_accuracy = sklearn.metrics.accuracy_score(y_test,y_mlp)\n",
        "print(mlp_accuracy)\n",
        "mlp_cm = confusion_matrix(y_test, y_mlp)\n",
        "matrix = ConfusionMatrixDisplay(mlp_cm, ['Normal', 'Fraud'])\n",
        "matrix.plot(cmap='Purples', values_format='d')\n",
        "plt.show()"
      ],
      "execution_count": null,
      "outputs": [
        {
          "output_type": "stream",
          "text": [
            "0.9973315543695798\n"
          ],
          "name": "stdout"
        },
        {
          "output_type": "display_data",
          "data": {
            "image/png": "[encoded data removed]",
            "text/plain": [
              "<Figure size 432x288 with 2 Axes>"
            ]
          },
          "metadata": {
            "tags": [],
            "needs_background": "light"
          }
        }
      ]
    },
    {
      "cell_type": "markdown",
      "metadata": {
        "id": "7uLgJfhpj-79"
      },
      "source": [
        "# SVM (SMOTE)"
      ]
    },
    {
      "cell_type": "code",
      "metadata": {
        "colab": {
          "base_uri": "https://localhost:8080/"
        },
        "id": "qgTb6n50cuqC",
        "outputId": "94754169-899b-479c-a625-8fd4fc281679"
      },
      "source": [
        "from sklearn.svm import SVC\n",
        "sv_smote = SVC(kernel='linear', gamma='auto', tol=0.0001, verbose = 1)\n",
        "sv_smote.fit(X_train, y_train)\n",
        "y_svc_smote = sv.predict(X_test)\n",
        "svc_accuracy_smote = sklearn.metrics.accuracy_score(y_test,y_svc_smote)\n",
        "print(svc_accuracy_smote)\n",
        "svc_cm_smote = confusion_matrix(y_test, y_svc)\n",
        "matrix = ConfusionMatrixDisplay(svc_cm, ['Normal', 'Fraud'])\n",
        "matrix.plot(cmap='Purples', values_format='d')\n",
        "plt.show()\n"
      ],
      "execution_count": null,
      "outputs": [
        {
          "output_type": "stream",
          "text": [
            "[LibSVM]"
          ],
          "name": "stdout"
        }
      ]
    },
    {
      "cell_type": "markdown",
      "metadata": {
        "id": "BjBxjCcEp_tG"
      },
      "source": [
        "# Paper implementation metrics"
      ]
    },
    {
      "cell_type": "markdown",
      "metadata": {
        "id": "zVoHGNAnqO4W"
      },
      "source": [
        "Accuracy, F1 score, precision, recall"
      ]
    },
    {
      "cell_type": "code",
      "metadata": {
        "id": "gDEj3mnE0i3g"
      },
      "source": [
        "from sklearn.metrics import f1_score, precision_score, recall_score"
      ],
      "execution_count": null,
      "outputs": []
    },
    {
      "cell_type": "code",
      "metadata": {
        "id": "2MGsYOFjqCKm"
      },
      "source": [
        "def print_metrics(y_true, y_pred):\n",
        "  accuracy = accuracy_score(y_true, y_pred)\n",
        "  f1 = f1_score(y_true, y_pred)\n",
        "  precision = precision_score(y_true, y_pred)\n",
        "  recall = recall_score(y_true, y_pred)\n",
        "  print(\"accuracy, f1, precision, recall: \")\n",
        "  print(accuracy.round(4), '\\t', f1.round(3), '\\t', precision.round(3), '\\t', recall.round(3))\n",
        "  print(\"________________________________________________\")"
      ],
      "execution_count": null,
      "outputs": []
    },
    {
      "cell_type": "code",
      "metadata": {
        "colab": {
          "base_uri": "https://localhost:8080/"
        },
        "id": "ZGrpSn8m1OeP",
        "outputId": "f502559f-2128-4073-cc8f-114ee7bfe5c0"
      },
      "source": [
        "print(\"DEAL framework:\")\n",
        "print_metrics(y_test, y_ensemble)"
      ],
      "execution_count": null,
      "outputs": [
        {
          "output_type": "stream",
          "text": [
            "DEAL framework:\n",
            "accuracy, f1, precision, recall: \n",
            "0.9996 \t 0.873 \t 0.952 \t 0.806\n",
            "________________________________________________\n"
          ],
          "name": "stdout"
        }
      ]
    },
    {
      "cell_type": "code",
      "metadata": {
        "colab": {
          "base_uri": "https://localhost:8080/"
        },
        "id": "rhW5fNGj1g8Y",
        "outputId": "2903db4d-5c3d-49ff-b982-6ad7f39a7dd3"
      },
      "source": [
        "print(\"CNN:\")\n",
        "print_metrics(y_test, y_cnn)\n",
        "# Recall = 100% ВАУ! ЛУЧШАЯ МОДЕЛЬ!)))"
      ],
      "execution_count": null,
      "outputs": [
        {
          "output_type": "stream",
          "text": [
            "CNN:\n",
            "accuracy, f1, precision, recall: \n",
            "0.0017 \t 0.003 \t 0.002 \t 1.0\n",
            "________________________________________________\n"
          ],
          "name": "stdout"
        }
      ]
    },
    {
      "cell_type": "code",
      "metadata": {
        "colab": {
          "base_uri": "https://localhost:8080/"
        },
        "id": "q5WO2yjn1kQ8",
        "outputId": "5fdd90a7-e323-4436-94a7-05dd062c4d0a"
      },
      "source": [
        "print(\"Logistic Regression\")\n",
        "print_metrics(y_test, y_lr)"
      ],
      "execution_count": null,
      "outputs": [
        {
          "output_type": "stream",
          "text": [
            "Logistic Regression\n",
            "accuracy, f1, precision, recall: \n",
            "0.9994 \t 0.816 \t 0.816 \t 0.816\n",
            "________________________________________________\n"
          ],
          "name": "stdout"
        }
      ]
    },
    {
      "cell_type": "code",
      "metadata": {
        "colab": {
          "base_uri": "https://localhost:8080/"
        },
        "id": "Vh7oDXMHYgeg",
        "outputId": "dc3b669d-1d8b-44a3-cc5b-fdb9a517c2c1"
      },
      "source": [
        "print(\"SVC:\")\n",
        "print_metrics(y_test, y_svc)"
      ],
      "execution_count": null,
      "outputs": [
        {
          "output_type": "stream",
          "text": [
            "SVC:\n",
            "accuracy, f1, precision, recall: \n",
            "0.9993 \t 0.798 \t 0.79 \t 0.806\n",
            "________________________________________________\n"
          ],
          "name": "stdout"
        }
      ]
    },
    {
      "cell_type": "code",
      "metadata": {
        "colab": {
          "base_uri": "https://localhost:8080/"
        },
        "id": "30V3PMNA1nUH",
        "outputId": "5c4f5955-3c3e-42fa-9b97-a97e476fe86c"
      },
      "source": [
        "print(\"RandomForestClassifier:\")\n",
        "print_metrics(y_test, y_rfc)"
      ],
      "execution_count": null,
      "outputs": [
        {
          "output_type": "stream",
          "text": [
            "RandomForestClassifier:\n",
            "accuracy, f1, precision, recall: \n",
            "0.9996 \t 0.88 \t 0.942 \t 0.827\n",
            "________________________________________________\n"
          ],
          "name": "stdout"
        }
      ]
    },
    {
      "cell_type": "code",
      "metadata": {
        "colab": {
          "base_uri": "https://localhost:8080/"
        },
        "id": "qdEoJ94VnMi2",
        "outputId": "63644e2a-5e5b-4b35-d112-f6b65b245e41"
      },
      "source": [
        "print(\"Kaggle CNN architecture:\")\n",
        "print_metrics(y_test, y_cnn2)"
      ],
      "execution_count": null,
      "outputs": [
        {
          "output_type": "stream",
          "text": [
            "Kaggle CNN architecture:\n",
            "accuracy, f1, precision, recall: \n",
            "0.9994 \t 0.812 \t 0.808 \t 0.816\n",
            "________________________________________________\n"
          ],
          "name": "stdout"
        }
      ]
    },
    {
      "cell_type": "markdown",
      "metadata": {
        "id": "LKjLufH31sdP"
      },
      "source": [
        "# SMOTE metrics:"
      ]
    },
    {
      "cell_type": "code",
      "metadata": {
        "colab": {
          "base_uri": "https://localhost:8080/"
        },
        "id": "jYXSLwvB1qB1",
        "outputId": "7de12757-3609-4e08-a462-a77db05854cb"
      },
      "source": [
        "print(\"Logistic regression smote:\")\n",
        "print_metrics(y_test, y_lr_smote)"
      ],
      "execution_count": null,
      "outputs": [
        {
          "output_type": "stream",
          "text": [
            "Logistic regression:\n",
            "accuracy, f1, precision, recall: \n",
            "0.9742 \t 0.109 \t 0.058 \t 0.918\n",
            "________________________________________________\n"
          ],
          "name": "stdout"
        }
      ]
    },
    {
      "cell_type": "code",
      "metadata": {
        "colab": {
          "base_uri": "https://localhost:8080/"
        },
        "id": "ItcuTccCnxns",
        "outputId": "c6dac7e4-9475-4ad4-cf7a-acefd32c7b56"
      },
      "source": [
        "print(\"Random forest:\")\n",
        "print_metrics(y_test, y_rfc_smote)"
      ],
      "execution_count": null,
      "outputs": [
        {
          "output_type": "stream",
          "text": [
            "Random forest:\n",
            "accuracy, f1, precision, recall: \n",
            "0.9982 \t 0.607 \t 0.479 \t 0.827\n",
            "________________________________________________\n"
          ],
          "name": "stdout"
        }
      ]
    },
    {
      "cell_type": "code",
      "metadata": {
        "colab": {
          "base_uri": "https://localhost:8080/"
        },
        "id": "a8u_7svatwmc",
        "outputId": "dfc6fcd9-57df-4576-9ffe-dbde9fb4a2eb"
      },
      "source": [
        "print(\"XGB:\")\n",
        "print_metrics(y_test, y_xgb)"
      ],
      "execution_count": null,
      "outputs": [
        {
          "output_type": "stream",
          "text": [
            "XGB:\n",
            "accuracy, f1, precision, recall: \n",
            "0.9994 \t 0.822 \t 0.798 \t 0.847\n",
            "________________________________________________\n"
          ],
          "name": "stdout"
        }
      ]
    },
    {
      "cell_type": "code",
      "metadata": {
        "colab": {
          "base_uri": "https://localhost:8080/"
        },
        "id": "on5ZXOV8t2Ih",
        "outputId": "2fccbad0-f126-45ad-caaf-4f6b8983be6a"
      },
      "source": [
        "print(\"LGBM:\")\n",
        "print_metrics(y_test, y_lgb)"
      ],
      "execution_count": null,
      "outputs": [
        {
          "output_type": "stream",
          "text": [
            "LGBM:\n",
            "accuracy, f1, precision, recall: \n",
            "0.9994 \t 0.83 \t 0.814 \t 0.847\n",
            "________________________________________________\n"
          ],
          "name": "stdout"
        }
      ]
    },
    {
      "cell_type": "code",
      "metadata": {
        "colab": {
          "base_uri": "https://localhost:8080/"
        },
        "id": "6i8qNR9uyFx0",
        "outputId": "2eb3da4f-5396-432c-d6c9-8632b4a09634"
      },
      "source": [
        "print(\"CatBoost:\")\n",
        "print_metrics(y_test, y_cbc)"
      ],
      "execution_count": null,
      "outputs": [
        {
          "output_type": "stream",
          "text": [
            "CatBoost:\n",
            "accuracy, f1, precision, recall: \n",
            "0.9992 \t 0.787 \t 0.72 \t 0.867\n",
            "________________________________________________\n"
          ],
          "name": "stdout"
        }
      ]
    },
    {
      "cell_type": "code",
      "metadata": {
        "colab": {
          "base_uri": "https://localhost:8080/"
        },
        "id": "iwP4LEZy0jiq",
        "outputId": "72091055-8808-4cf8-f768-f93ea0fafd6c"
      },
      "source": [
        "print(\"MLP:\")\n",
        "print_metrics(y_test, y_mlp)"
      ],
      "execution_count": null,
      "outputs": [
        {
          "output_type": "stream",
          "text": [
            "MLP:\n",
            "accuracy, f1, precision, recall: \n",
            "0.9973 \t 0.534 \t 0.382 \t 0.888\n",
            "________________________________________________\n"
          ],
          "name": "stdout"
        }
      ]
    },
    {
      "cell_type": "markdown",
      "metadata": {
        "id": "5pjpi1-R6sGb"
      },
      "source": [
        "# Итог"
      ]
    },
    {
      "cell_type": "markdown",
      "metadata": {
        "id": "jBe07fj452v-"
      },
      "source": [
        "Для нас важнее всего - recall метрика, уже потом f1. Так как нет ничего страшного в том, что из 50тыс транзакций пару десятков хороших посчитаются за мошеннические, намного страшнее каждая мошенническая транзакция, которую модель не заметила. \n",
        "\n",
        "Таким образом лучшими моделями можно считать: smote_mlp, Catboost_smote, LGBM_smote, LogregSmote (Да, там 1500 FalseNegative, но это все еще 3% от всех, что не так уж и велико.)"
      ]
    }
  ]
}